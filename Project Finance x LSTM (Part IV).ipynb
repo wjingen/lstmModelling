{
 "cells": [
  {
   "cell_type": "markdown",
   "metadata": {
    "id": "48Uztv6L9AVC"
   },
   "source": [
    "# Introduction\n",
    "\n",
    "In this section, we will:\n",
    "1. Mount the Google Drive and read the CSV\n",
    "2. Train a vanilla LSTM model using Open\n",
    "3. Train another vanilla LSTM model using FilteredOpen\n",
    "4. Plot and compare our model results\n",
    "\n",
    "As mentioned at the end of Part I, we will be answering two questions:\n",
    "1. Can LSTM help with stock predictions?\n",
    "2. Can using signal processing technique help with improving stock predictions?"
   ]
  },
  {
   "cell_type": "code",
   "execution_count": 1,
   "metadata": {
    "id": "Ytn5JKeRuC8J"
   },
   "outputs": [],
   "source": [
    "# Import pandas as pd"
   ]
  },
  {
   "cell_type": "code",
   "execution_count": 2,
   "metadata": {
    "id": "t-cCPpMZB4cv"
   },
   "outputs": [],
   "source": [
    "# Import libraries\n",
    "import matplotlib.pyplot as plt\n",
    "import numpy as np\n",
    "from sklearn.preprocessing import StandardScaler \n",
    "from sklearn.metrics import mean_squared_error\n",
    "from keras.models import Sequential \n",
    "from keras.layers import Dense \n",
    "from keras.layers import LSTM\n",
    "from keras.layers import Dropout \n",
    "import pandas as pd"
   ]
  },
  {
   "cell_type": "markdown",
   "metadata": {
    "id": "MpGeeoMYhAGH"
   },
   "source": [
    "### Split your data into train and test\n",
    "We split our DataFrame into train and test DataFrames according to the following dates:\n",
    "\n",
    "- Train data: January 3 2000 to May 16 2019\n",
    "- Test data: May 15 2019 to July 1 2019"
   ]
  },
  {
   "cell_type": "code",
   "execution_count": 3,
   "metadata": {
    "id": "BUuMdNxW7FzU"
   },
   "outputs": [],
   "source": [
    "# Split DataFrame into train and test\n",
    "df = pd.read_csv('df_iii.csv')\n",
    "split_date ='2008-04-12'\n",
    "df_train = df.loc[(df['Date'] >= \"2000-01-03\") & (df[\"Date\"] <= \"2019-05-16\")]\n",
    "df_train = df_train.set_index(\"Date\")\n",
    "df_train.index = pd.to_datetime(df_train.index)\n",
    "\n",
    "df_test = df.loc[(df['Date'] >= \"2019-05-15\") & (df[\"Date\"] <= \"2019-07-01\")]\n",
    "df_test = df_test.set_index(\"Date\")\n",
    "df_test.index = pd.to_datetime(df_test.index)"
   ]
  },
  {
   "cell_type": "markdown",
   "metadata": {
    "id": "v6ci5qQTt8IV"
   },
   "source": [
    "# Data Preparation\n",
    "\n",
    "We'll prepare three separate sets of scaled training data:\n",
    "1. Open\n",
    "2. FilteredOpen\n",
    "3. ZeroMeanFilteredOpen (we'll get to that soon)"
   ]
  },
  {
   "cell_type": "code",
   "execution_count": 4,
   "metadata": {
    "colab": {
     "base_uri": "https://localhost:8080/"
    },
    "id": "x0cbHJXFNdza",
    "outputId": "a978e504-b755-434d-99bc-dcc76e2cca84"
   },
   "outputs": [],
   "source": [
    "# Get the mean of 'FilteredOpen' from train\n",
    "filteredOpenMean = df_train.FilteredOpen.mean()\n",
    "\n",
    "# Create 'ZeroMeanFilteredOpen' in train\n",
    "df_train[\"ZeroMeanFilteredOpen\"] = df_train[\"FilteredOpen\"] - filteredOpenMean\n",
    "\n",
    "# Create 'ZeroMeanFilteredOpen' in test\n",
    "df_test[\"ZeroMeanFilteredOpen\"] = df_test[\"FilteredOpen\"] - filteredOpenMean"
   ]
  },
  {
   "cell_type": "code",
   "execution_count": 5,
   "metadata": {
    "id": "qHhvWe5LmtFF"
   },
   "outputs": [
    {
     "data": {
      "text/plain": [
       "array([[-0.03568282],\n",
       "       [-0.12813507],\n",
       "       [-0.1688115 ],\n",
       "       ...,\n",
       "       [ 2.4588267 ],\n",
       "       [ 2.45085386],\n",
       "       [ 2.44992725]])"
      ]
     },
     "execution_count": 5,
     "metadata": {},
     "output_type": "execute_result"
    }
   ],
   "source": [
    "# Declare a StandardScaler for Open\n",
    "openScaler = StandardScaler() # Standardize features by removing the mean and scaling to unit variance\n",
    "\n",
    "# Call .fit_transform on the 'Open' column values from train dataset\n",
    "openScaler.fit_transform(np.array(df_train.Open).reshape(-1,1))\n",
    "\n",
    "# Declare a StandardScaler for FilteredOpen\n",
    "filteredOpenScaler = StandardScaler()\n",
    "\n",
    "# Call .fit_transform on the 'FilteredOpen' column values from train dataset\n",
    "filteredOpenScaler.fit_transform(np.array(df_train.FilteredOpen).reshape(-1,1))\n",
    "\n",
    "# Declare a StandardScaler for ZeroMeanFilteredOpen\n",
    "zeroMeanFilteredOpenScaler = StandardScaler()\n",
    "\n",
    "# Call .fit_transform on the 'ZeroMeanFilteredOpen' column values from train dataset\n",
    "zeroMeanFilteredOpenScaler.fit_transform(np.array(df_train.ZeroMeanFilteredOpen).reshape(-1,1))"
   ]
  },
  {
   "cell_type": "markdown",
   "metadata": {
    "id": "e9TgQa2vFyL5"
   },
   "source": [
    "### Prepare create arrays for training\n",
    "\n",
    "![LSTMTrainingWindow](https://uplevelsg.s3-ap-southeast-1.amazonaws.com/ProjectFinancexLSTM/LSTMTrainingWindow.png)\n",
    "\n",
    "\n",
    "![OpenXyTrainList](https://uplevelsg.s3-ap-southeast-1.amazonaws.com/ProjectFinancexLSTM/OpenXyTrainList.png)\n"
   ]
  },
  {
   "cell_type": "code",
   "execution_count": 6,
   "metadata": {
    "id": "-UVPzBW48EuY"
   },
   "outputs": [],
   "source": [
    "# Prepare X train and y train using scaled \"Open\"\n",
    "open_X_train, open_Y_train = [], []\n",
    "open_values = openScaler.fit_transform(np.array(df_train.Open).reshape(-1,1))\n",
    "for i in range(len(open_values)-2):\n",
    "    open_X_train.append(open_values[i:i+2].reshape(1,-1)[0])\n",
    "    open_Y_train.append(open_values[i+2][0])\n",
    "\n",
    "# Prepare X train and y train using scaled \"FilteredOpen\"\n",
    "filtered_open_X_train, filtered_open_Y_train = [], []\n",
    "filtered_open_values = filteredOpenScaler.fit_transform(np.array(df_train.FilteredOpen).reshape(-1,1))\n",
    "for i in range(len(filtered_open_values)-2):\n",
    "    filtered_open_X_train.append(filtered_open_values[i:i+2].reshape(1,-1)[0])\n",
    "    filtered_open_Y_train.append(filtered_open_values[i+2][0])\n",
    "\n",
    "# Prepare X train and y train using scaled \"ZeroMeanFilteredOpen\"\n",
    "zero_mean_filtered_open_X_train, zero_mean_filtered_open_Y_train = [], []\n",
    "zero_mean_filtered_open_values = zeroMeanFilteredOpenScaler.fit_transform(np.array(df_train.ZeroMeanFilteredOpen).reshape(-1,1))\n",
    "for i in range(len(zero_mean_filtered_open_values)-2):\n",
    "    zero_mean_filtered_open_X_train.append(zero_mean_filtered_open_values[i:i+2].reshape(1,-1)[0])\n",
    "    zero_mean_filtered_open_Y_train.append(zero_mean_filtered_open_values[i+2][0])"
   ]
  },
  {
   "cell_type": "markdown",
   "metadata": {
    "id": "2gUOX6EvLXba"
   },
   "source": [
    "### Turn the X train and y train lists into NumPy arrays"
   ]
  },
  {
   "cell_type": "code",
   "execution_count": 7,
   "metadata": {
    "id": "zCS045mdLvTK"
   },
   "outputs": [],
   "source": [
    "# Turn open X train list into NumPy array\n",
    "open_X_train = np.asarray(open_X_train)\n",
    "\n",
    "# Turn open y train list into NumPy array\n",
    "open_Y_train = np.asarray(open_Y_train)\n",
    "\n",
    "# Turn filtered X train list into NumPy array\n",
    "filtered_open_X_train = np.asarray(filtered_open_X_train)\n",
    "\n",
    "# Turn filtered y train list into NumPy array\n",
    "filtered_open_Y_train = np.asarray(filtered_open_Y_train)\n",
    "\n",
    "# Turn open X train list into NumPy array\n",
    "zero_mean_filtered_open_X_train = np.asarray(zero_mean_filtered_open_X_train)\n",
    "\n",
    "# Turn open y train list into NumPy array)\n",
    "zero_mean_filtered_open_Y_train = np.asarray(zero_mean_filtered_open_Y_train)"
   ]
  },
  {
   "cell_type": "code",
   "execution_count": 8,
   "metadata": {
    "colab": {
     "base_uri": "https://localhost:8080/"
    },
    "id": "o56csleQNdtJ",
    "outputId": "00b02dc3-3eb4-43f6-cc5f-aafd7b83e717"
   },
   "outputs": [
    {
     "name": "stdout",
     "output_type": "stream",
     "text": [
      "(4871, 2)\n",
      "(4871,)\n"
     ]
    }
   ],
   "source": [
    "print(open_X_train.shape)\n",
    "print(open_Y_train.shape)"
   ]
  },
  {
   "cell_type": "markdown",
   "metadata": {
    "id": "Lvvk_aHbNzxv"
   },
   "source": [
    "### Reshape X train NumPy arrays\n",
    "We will now reshape our X train arrays from 2D to 3D."
   ]
  },
  {
   "cell_type": "code",
   "execution_count": 9,
   "metadata": {
    "id": "dE4Mpy3a-FEY"
   },
   "outputs": [],
   "source": [
    "# Reshape your \"Open\" X train array\n",
    "open_X_train = open_X_train[..., np.newaxis]\n",
    "\n",
    "# Reshape your \"FilteredOpen\" X train array\n",
    "filtered_open_X_train = filtered_open_X_train[..., np.newaxis]\n",
    "\n",
    "# Reshape your \"ZeroMeanFilteredOpen\" X train array\n",
    "zero_mean_filtered_open_X_train = zero_mean_filtered_open_X_train[..., np.newaxis]"
   ]
  },
  {
   "cell_type": "markdown",
   "metadata": {
    "id": "jQr3QuTBP4S4"
   },
   "source": [
    "### Set up the model architecture\n",
    "We'll do the following steps to set up a model.\n",
    "\n",
    "1. Declare a variable, and store a Sequential object\n",
    "2. [First layer] Add a LSTM layer\n",
    "  *   50 units\n",
    "  *   return sequences\n",
    "  *   input shape as a tuple with (2, 1)\n",
    "3. [Second layer] Add a Dropout layer, with a rate of 0.3\n",
    "4. [Third layer] Add an LSTM layer\n",
    "  *   50 units\n",
    "5. [Fourth layer] Add a Dropout layer, with a rate of 0.3\n",
    "6. [Fifth layer] Add a Dense layer\n",
    "  *   1 units"
   ]
  },
  {
   "cell_type": "code",
   "execution_count": 10,
   "metadata": {
    "id": "6P7RDFSF-bUo"
   },
   "outputs": [
    {
     "name": "stdout",
     "output_type": "stream",
     "text": [
      "Model: \"sequential\"\n",
      "_________________________________________________________________\n",
      " Layer (type)                Output Shape              Param #   \n",
      "=================================================================\n",
      " lstm (LSTM)                 (None, 2, 50)             10400     \n",
      "                                                                 \n",
      " dropout (Dropout)           (None, 2, 50)             0         \n",
      "                                                                 \n",
      " lstm_1 (LSTM)               (None, 50)                20200     \n",
      "                                                                 \n",
      " dropout_1 (Dropout)         (None, 50)                0         \n",
      "                                                                 \n",
      " dense (Dense)               (None, 1)                 51        \n",
      "                                                                 \n",
      "=================================================================\n",
      "Total params: 30,651\n",
      "Trainable params: 30,651\n",
      "Non-trainable params: 0\n",
      "_________________________________________________________________\n"
     ]
    }
   ],
   "source": [
    "# Set up your model architecture\n",
    "model = Sequential()\n",
    "model.add(LSTM(50, input_shape=(2,1), return_sequences=True))\n",
    "model.add(Dropout(0.3))\n",
    "model.add(LSTM(50))\n",
    "model.add(Dropout(0.3))\n",
    "model.add(Dense(1))\n",
    "model.summary()"
   ]
  },
  {
   "cell_type": "code",
   "execution_count": 11,
   "metadata": {
    "colab": {
     "base_uri": "https://localhost:8080/"
    },
    "id": "8R-gWEdb-oof",
    "outputId": "531a6d11-76fa-4cf2-eeb8-0a473ade7b65"
   },
   "outputs": [
    {
     "name": "stdout",
     "output_type": "stream",
     "text": [
      "Epoch 1/15\n",
      "153/153 [==============================] - 3s 3ms/step - loss: 0.2059\n",
      "Epoch 2/15\n",
      "153/153 [==============================] - 0s 3ms/step - loss: 0.0194\n",
      "Epoch 3/15\n",
      "153/153 [==============================] - 0s 3ms/step - loss: 0.0166\n",
      "Epoch 4/15\n",
      "153/153 [==============================] - 0s 3ms/step - loss: 0.0154\n",
      "Epoch 5/15\n",
      "153/153 [==============================] - 0s 3ms/step - loss: 0.0157\n",
      "Epoch 6/15\n",
      "153/153 [==============================] - 0s 3ms/step - loss: 0.0152\n",
      "Epoch 7/15\n",
      "153/153 [==============================] - 0s 2ms/step - loss: 0.0154\n",
      "Epoch 8/15\n",
      "153/153 [==============================] - 0s 3ms/step - loss: 0.0148\n",
      "Epoch 9/15\n",
      "153/153 [==============================] - 0s 3ms/step - loss: 0.0143\n",
      "Epoch 10/15\n",
      "153/153 [==============================] - 0s 3ms/step - loss: 0.0149\n",
      "Epoch 11/15\n",
      "153/153 [==============================] - 0s 3ms/step - loss: 0.0135\n",
      "Epoch 12/15\n",
      "153/153 [==============================] - 0s 3ms/step - loss: 0.0139\n",
      "Epoch 13/15\n",
      "153/153 [==============================] - 0s 3ms/step - loss: 0.0144\n",
      "Epoch 14/15\n",
      "153/153 [==============================] - 0s 3ms/step - loss: 0.0140\n",
      "Epoch 15/15\n",
      "153/153 [==============================] - 0s 3ms/step - loss: 0.0132\n"
     ]
    },
    {
     "data": {
      "text/plain": [
       "<keras.callbacks.History at 0x23e71d2c970>"
      ]
     },
     "execution_count": 11,
     "metadata": {},
     "output_type": "execute_result"
    }
   ],
   "source": [
    "# Compile and fit your data\n",
    "model.compile(optimizer=\"adam\", loss = \"mse\")\n",
    "model.fit(open_X_train, open_Y_train, epochs = 15, batch_size = 32)"
   ]
  },
  {
   "cell_type": "code",
   "execution_count": 12,
   "metadata": {
    "id": "LgNKfpszD6d0"
   },
   "outputs": [],
   "source": [
    "# Transform, loop, transform, and reshape \"Open\" test X data\n",
    "open_X_test, open_Y_test = [], []\n",
    "open_test_values = openScaler.fit_transform(np.array(df_test.Open).reshape(-1,1))\n",
    "\n",
    "for i in range(len(open_test_values)-2):\n",
    "    open_X_test.append(open_test_values[i:i+2].reshape(1,-1)[0])\n",
    "    open_Y_test.append(open_test_values[i+2][0])\n",
    "    \n",
    "open_X_test = np.asarray(open_X_test)\n",
    "open_Y_test = np.asarray(open_Y_test)\n",
    "\n",
    "open_X_test = open_X_test[..., np.newaxis]"
   ]
  },
  {
   "cell_type": "markdown",
   "metadata": {
    "id": "GTmnHA_DWo_v"
   },
   "source": [
    "## Make predictions"
   ]
  },
  {
   "cell_type": "code",
   "execution_count": 13,
   "metadata": {
    "colab": {
     "base_uri": "https://localhost:8080/"
    },
    "id": "dxM4KJ_CF3F8",
    "outputId": "d3dab0b5-6921-4e2a-da04-9cfb947b35c1"
   },
   "outputs": [
    {
     "name": "stdout",
     "output_type": "stream",
     "text": [
      "1/1 [==============================] - 1s 717ms/step\n"
     ]
    },
    {
     "data": {
      "text/plain": [
       "array([[2830.5466],\n",
       "       [2855.6057],\n",
       "       [2852.7998],\n",
       "       [2844.6953],\n",
       "       [2853.6348],\n",
       "       [2849.5486],\n",
       "       [2834.9683],\n",
       "       [2831.3706],\n",
       "       [2818.831 ],\n",
       "       [2791.3054],\n",
       "       [2783.5613],\n",
       "       [2766.249 ],\n",
       "       [2759.914 ],\n",
       "       [2782.0925],\n",
       "       [2821.2512],\n",
       "       [2835.1948],\n",
       "       [2861.5452],\n",
       "       [2890.0579],\n",
       "       [2896.439 ],\n",
       "       [2882.7112],\n",
       "       [2885.3936],\n",
       "       [2886.685 ],\n",
       "       [2893.9163],\n",
       "       [2910.4075],\n",
       "       [2929.5269],\n",
       "       [2951.4773],\n",
       "       [2953.3098],\n",
       "       [2950.6426],\n",
       "       [2940.5054],\n",
       "       [2924.1992],\n",
       "       [2923.6533]], dtype=float32)"
      ]
     },
     "execution_count": 13,
     "metadata": {},
     "output_type": "execute_result"
    }
   ],
   "source": [
    "prediction_open_test = openScaler.inverse_transform(model.predict(open_X_test))\n",
    "prediction_open_test"
   ]
  },
  {
   "cell_type": "code",
   "execution_count": 14,
   "metadata": {
    "id": "s80jx21kYNTO"
   },
   "outputs": [],
   "source": [
    "# Create a DataFrame for \"Open\" prediction\n",
    "df_open_prediction = pd.DataFrame({\"Date\":df_test.index[2:]})\n",
    "df_open_prediction[\"Open Prediction\"] = prediction_open_test\n",
    "df_open_prediction[\"S&P 500 Stock Price\"] = list(df_test.Open)[2:]\n",
    "df_open_prediction = df_open_prediction.set_index(\"Date\")"
   ]
  },
  {
   "cell_type": "code",
   "execution_count": 15,
   "metadata": {
    "colab": {
     "base_uri": "https://localhost:8080/",
     "height": 567
    },
    "id": "RtXgQMcVF_GC",
    "outputId": "b8f90327-c897-4e4b-bbb6-6b0b6fcb78dd"
   },
   "outputs": [
    {
     "data": {
      "text/plain": [
       "<matplotlib.legend.Legend at 0x23e69d06ef0>"
      ]
     },
     "execution_count": 15,
     "metadata": {},
     "output_type": "execute_result"
    },
    {
     "data": {
      "image/png": "[encoded data removed]",
      "text/plain": [
       "<Figure size 1152x432 with 1 Axes>"
      ]
     },
     "metadata": {
      "needs_background": "light"
     },
     "output_type": "display_data"
    }
   ],
   "source": [
    "# Plot \"Open\" prediction with the original test \"Open\"\n",
    "\n",
    "plt.figure(figsize=(16, 6))\n",
    "plt.plot(df_open_prediction)\n",
    "plt.legend(df_open_prediction)"
   ]
  },
  {
   "cell_type": "markdown",
   "metadata": {
    "id": "AMJXXPaScIUx"
   },
   "source": [
    "### Repeat for \"FilteredOpen\" and \"ZeroMeanFilteredOpen\" \n",
    "Now that we've successfully done predictions using data from \"Open\", let's work on \"FilteredOpen\" and \"ZeroMeanFilteredOpen\" next."
   ]
  },
  {
   "cell_type": "code",
   "execution_count": 16,
   "metadata": {
    "colab": {
     "base_uri": "https://localhost:8080/"
    },
    "id": "HYW3bJ9Lcofu",
    "outputId": "b0ea1501-9d2a-4020-aaf5-af8fabed1c0c"
   },
   "outputs": [
    {
     "name": "stdout",
     "output_type": "stream",
     "text": [
      "Model: \"sequential_1\"\n",
      "_________________________________________________________________\n",
      " Layer (type)                Output Shape              Param #   \n",
      "=================================================================\n",
      " lstm_2 (LSTM)               (None, 2, 50)             10400     \n",
      "                                                                 \n",
      " dropout_2 (Dropout)         (None, 2, 50)             0         \n",
      "                                                                 \n",
      " lstm_3 (LSTM)               (None, 50)                20200     \n",
      "                                                                 \n",
      " dropout_3 (Dropout)         (None, 50)                0         \n",
      "                                                                 \n",
      " dense_1 (Dense)             (None, 1)                 51        \n",
      "                                                                 \n",
      "=================================================================\n",
      "Total params: 30,651\n",
      "Trainable params: 30,651\n",
      "Non-trainable params: 0\n",
      "_________________________________________________________________\n",
      "Epoch 1/15\n",
      "153/153 [==============================] - 3s 3ms/step - loss: 0.1824\n",
      "Epoch 2/15\n",
      "153/153 [==============================] - 0s 3ms/step - loss: 0.0177\n",
      "Epoch 3/15\n",
      "153/153 [==============================] - 0s 3ms/step - loss: 0.0168\n",
      "Epoch 4/15\n",
      "153/153 [==============================] - 0s 3ms/step - loss: 0.0165\n",
      "Epoch 5/15\n",
      "153/153 [==============================] - 0s 3ms/step - loss: 0.0145\n",
      "Epoch 6/15\n",
      "153/153 [==============================] - 0s 3ms/step - loss: 0.0142\n",
      "Epoch 7/15\n",
      "153/153 [==============================] - 0s 3ms/step - loss: 0.0138\n",
      "Epoch 8/15\n",
      "153/153 [==============================] - 0s 3ms/step - loss: 0.0140\n",
      "Epoch 9/15\n",
      "153/153 [==============================] - 0s 3ms/step - loss: 0.0133\n",
      "Epoch 10/15\n",
      "153/153 [==============================] - 0s 3ms/step - loss: 0.0131\n",
      "Epoch 11/15\n",
      "153/153 [==============================] - 0s 3ms/step - loss: 0.0129\n",
      "Epoch 12/15\n",
      "153/153 [==============================] - 0s 3ms/step - loss: 0.0133\n",
      "Epoch 13/15\n",
      "153/153 [==============================] - 0s 3ms/step - loss: 0.0127\n",
      "Epoch 14/15\n",
      "153/153 [==============================] - 0s 3ms/step - loss: 0.0126\n",
      "Epoch 15/15\n",
      "153/153 [==============================] - 0s 2ms/step - loss: 0.0132\n"
     ]
    },
    {
     "data": {
      "text/plain": [
       "<keras.callbacks.History at 0x23e7986aec0>"
      ]
     },
     "execution_count": 16,
     "metadata": {},
     "output_type": "execute_result"
    }
   ],
   "source": [
    "# Set up model architecture for FilteredOpen, compile, and fit \"FilteredOpen\" data\n",
    "model_filtered_open = Sequential()\n",
    "model_filtered_open.add(LSTM(50, input_shape=(2,1), return_sequences=True))\n",
    "model_filtered_open.add(Dropout(0.3))\n",
    "model_filtered_open.add(LSTM(50))\n",
    "model_filtered_open.add(Dropout(0.3))\n",
    "model_filtered_open.add(Dense(1))\n",
    "model_filtered_open.summary()\n",
    "model_filtered_open.compile(optimizer=\"adam\", loss = \"mse\")\n",
    "model_filtered_open.fit(filtered_open_X_train, filtered_open_Y_train, epochs = 15, batch_size = 32)"
   ]
  },
  {
   "cell_type": "code",
   "execution_count": 17,
   "metadata": {
    "id": "4vX1Tb37dAPk"
   },
   "outputs": [
    {
     "name": "stdout",
     "output_type": "stream",
     "text": [
      "1/1 [==============================] - 1s 620ms/step\n"
     ]
    }
   ],
   "source": [
    "# Transform, loop, transform, and reshape \"FilteredOpen\" test X data (Step 13)\n",
    "filtered_open_X_test, filtered_open_Y_test = [], []\n",
    "filtered_open_test_values = filteredOpenScaler.fit_transform(np.array(df_test.FilteredOpen).reshape(-1,1))\n",
    "\n",
    "for i in range(len(filtered_open_test_values)-2):\n",
    "    filtered_open_X_test.append(filtered_open_test_values[i:i+2].reshape(1,-1)[0])\n",
    "    filtered_open_Y_test.append(filtered_open_test_values[i+2][0])\n",
    "    \n",
    "filtered_open_X_test = np.asarray(filtered_open_X_test)\n",
    "filtered_open_Y_test = np.asarray(filtered_open_Y_test)\n",
    "\n",
    "filtered_open_X_test = filtered_open_X_test[..., np.newaxis]\n",
    "\n",
    "# Make the predict method and inverse_transform call (Step 14)\n",
    "prediction_filtered_open_test = filteredOpenScaler.inverse_transform(model_filtered_open.predict(filtered_open_X_test))\n",
    "prediction_filtered_open_test\n",
    "\n",
    "# Create a DataFrame for your \"FilteredOpen\" prediction (Step 15)\n",
    "df_filtered_open_prediction = pd.DataFrame({\"Date\":df_test.index[2:]})\n",
    "df_filtered_open_prediction[\"FilteredOpen Prediction\"] = prediction_filtered_open_test\n",
    "df_filtered_open_prediction = df_filtered_open_prediction.set_index(\"Date\")"
   ]
  },
  {
   "cell_type": "code",
   "execution_count": 18,
   "metadata": {
    "colab": {
     "base_uri": "https://localhost:8080/"
    },
    "id": "qOcbZYMkdUkM",
    "outputId": "0e9ecabc-1834-4a2e-af1a-4ac73d42f44c"
   },
   "outputs": [
    {
     "name": "stdout",
     "output_type": "stream",
     "text": [
      "Model: \"sequential_2\"\n",
      "_________________________________________________________________\n",
      " Layer (type)                Output Shape              Param #   \n",
      "=================================================================\n",
      " lstm_4 (LSTM)               (None, 2, 50)             10400     \n",
      "                                                                 \n",
      " dropout_4 (Dropout)         (None, 2, 50)             0         \n",
      "                                                                 \n",
      " lstm_5 (LSTM)               (None, 50)                20200     \n",
      "                                                                 \n",
      " dropout_5 (Dropout)         (None, 50)                0         \n",
      "                                                                 \n",
      " dense_2 (Dense)             (None, 1)                 51        \n",
      "                                                                 \n",
      "=================================================================\n",
      "Total params: 30,651\n",
      "Trainable params: 30,651\n",
      "Non-trainable params: 0\n",
      "_________________________________________________________________\n",
      "Epoch 1/15\n",
      "153/153 [==============================] - 3s 2ms/step - loss: 0.2040\n",
      "Epoch 2/15\n",
      "153/153 [==============================] - 0s 3ms/step - loss: 0.0196\n",
      "Epoch 3/15\n",
      "153/153 [==============================] - 0s 3ms/step - loss: 0.0162\n",
      "Epoch 4/15\n",
      "153/153 [==============================] - 0s 3ms/step - loss: 0.0153\n",
      "Epoch 5/15\n",
      "153/153 [==============================] - 0s 3ms/step - loss: 0.0139\n",
      "Epoch 6/15\n",
      "153/153 [==============================] - 0s 2ms/step - loss: 0.0137\n",
      "Epoch 7/15\n",
      "153/153 [==============================] - 0s 3ms/step - loss: 0.0139\n",
      "Epoch 8/15\n",
      "153/153 [==============================] - 0s 3ms/step - loss: 0.0143\n",
      "Epoch 9/15\n",
      "153/153 [==============================] - 0s 3ms/step - loss: 0.0134\n",
      "Epoch 10/15\n",
      "153/153 [==============================] - 0s 3ms/step - loss: 0.0135\n",
      "Epoch 11/15\n",
      "153/153 [==============================] - 0s 3ms/step - loss: 0.0140\n",
      "Epoch 12/15\n",
      "153/153 [==============================] - 0s 3ms/step - loss: 0.0132\n",
      "Epoch 13/15\n",
      "153/153 [==============================] - 0s 3ms/step - loss: 0.0130\n",
      "Epoch 14/15\n",
      "153/153 [==============================] - 0s 3ms/step - loss: 0.0134\n",
      "Epoch 15/15\n",
      "153/153 [==============================] - 0s 3ms/step - loss: 0.0130\n"
     ]
    },
    {
     "data": {
      "text/plain": [
       "<keras.callbacks.History at 0x23e7eee8370>"
      ]
     },
     "execution_count": 18,
     "metadata": {},
     "output_type": "execute_result"
    }
   ],
   "source": [
    "# Set up your model architecture for ZeroMeanFilteredOpen, compile, and fit \"ZeroMeanFilteredOpen\" data (Steps 11-12)\n",
    "model_zero_mean_filtered_open = Sequential()\n",
    "model_zero_mean_filtered_open.add(LSTM(50, input_shape=(2,1), return_sequences=True))\n",
    "model_zero_mean_filtered_open.add(Dropout(0.3))\n",
    "model_zero_mean_filtered_open.add(LSTM(50))\n",
    "model_zero_mean_filtered_open.add(Dropout(0.3))\n",
    "model_zero_mean_filtered_open.add(Dense(1))\n",
    "model_zero_mean_filtered_open.summary()\n",
    "model_zero_mean_filtered_open.compile(optimizer=\"adam\", loss = \"mse\")\n",
    "model_zero_mean_filtered_open.fit(zero_mean_filtered_open_X_train, zero_mean_filtered_open_Y_train, epochs = 15, batch_size = 32)"
   ]
  },
  {
   "cell_type": "code",
   "execution_count": 19,
   "metadata": {
    "colab": {
     "base_uri": "https://localhost:8080/",
     "height": 967
    },
    "id": "vY-eIBYseFqz",
    "outputId": "f47c16ba-b2ab-44b5-eadb-6256e5b8d7ca"
   },
   "outputs": [
    {
     "name": "stdout",
     "output_type": "stream",
     "text": [
      "1/1 [==============================] - 1s 602ms/step\n"
     ]
    },
    {
     "data": {
      "text/html": [
       "<div>\n",
       "<style scoped>\n",
       "    .dataframe tbody tr th:only-of-type {\n",
       "        vertical-align: middle;\n",
       "    }\n",
       "\n",
       "    .dataframe tbody tr th {\n",
       "        vertical-align: top;\n",
       "    }\n",
       "\n",
       "    .dataframe thead th {\n",
       "        text-align: right;\n",
       "    }\n",
       "</style>\n",
       "<table border=\"1\" class=\"dataframe\">\n",
       "  <thead>\n",
       "    <tr style=\"text-align: right;\">\n",
       "      <th></th>\n",
       "      <th>ZeroMeanFilteredOpen Prediction</th>\n",
       "    </tr>\n",
       "    <tr>\n",
       "      <th>Date</th>\n",
       "      <th></th>\n",
       "    </tr>\n",
       "  </thead>\n",
       "  <tbody>\n",
       "    <tr>\n",
       "      <th>2019-05-17</th>\n",
       "      <td>2839.837646</td>\n",
       "    </tr>\n",
       "    <tr>\n",
       "      <th>2019-05-20</th>\n",
       "      <td>2839.426758</td>\n",
       "    </tr>\n",
       "    <tr>\n",
       "      <th>2019-05-21</th>\n",
       "      <td>2839.015137</td>\n",
       "    </tr>\n",
       "    <tr>\n",
       "      <th>2019-05-22</th>\n",
       "      <td>2837.200195</td>\n",
       "    </tr>\n",
       "    <tr>\n",
       "      <th>2019-05-23</th>\n",
       "      <td>2832.546143</td>\n",
       "    </tr>\n",
       "    <tr>\n",
       "      <th>2019-05-24</th>\n",
       "      <td>2826.446533</td>\n",
       "    </tr>\n",
       "    <tr>\n",
       "      <th>2019-05-28</th>\n",
       "      <td>2819.870117</td>\n",
       "    </tr>\n",
       "    <tr>\n",
       "      <th>2019-05-29</th>\n",
       "      <td>2810.609863</td>\n",
       "    </tr>\n",
       "    <tr>\n",
       "      <th>2019-05-30</th>\n",
       "      <td>2798.191162</td>\n",
       "    </tr>\n",
       "    <tr>\n",
       "      <th>2019-05-31</th>\n",
       "      <td>2785.753418</td>\n",
       "    </tr>\n",
       "    <tr>\n",
       "      <th>2019-06-03</th>\n",
       "      <td>2775.921387</td>\n",
       "    </tr>\n",
       "    <tr>\n",
       "      <th>2019-06-04</th>\n",
       "      <td>2772.492676</td>\n",
       "    </tr>\n",
       "    <tr>\n",
       "      <th>2019-06-05</th>\n",
       "      <td>2777.834473</td>\n",
       "    </tr>\n",
       "    <tr>\n",
       "      <th>2019-06-06</th>\n",
       "      <td>2788.503418</td>\n",
       "    </tr>\n",
       "    <tr>\n",
       "      <th>2019-06-07</th>\n",
       "      <td>2801.859131</td>\n",
       "    </tr>\n",
       "    <tr>\n",
       "      <th>2019-06-10</th>\n",
       "      <td>2817.462891</td>\n",
       "    </tr>\n",
       "    <tr>\n",
       "      <th>2019-06-11</th>\n",
       "      <td>2834.104492</td>\n",
       "    </tr>\n",
       "    <tr>\n",
       "      <th>2019-06-12</th>\n",
       "      <td>2851.734375</td>\n",
       "    </tr>\n",
       "    <tr>\n",
       "      <th>2019-06-13</th>\n",
       "      <td>2869.896973</td>\n",
       "    </tr>\n",
       "    <tr>\n",
       "      <th>2019-06-14</th>\n",
       "      <td>2883.309326</td>\n",
       "    </tr>\n",
       "    <tr>\n",
       "      <th>2019-06-17</th>\n",
       "      <td>2889.198730</td>\n",
       "    </tr>\n",
       "    <tr>\n",
       "      <th>2019-06-18</th>\n",
       "      <td>2892.995361</td>\n",
       "    </tr>\n",
       "    <tr>\n",
       "      <th>2019-06-19</th>\n",
       "      <td>2898.365479</td>\n",
       "    </tr>\n",
       "    <tr>\n",
       "      <th>2019-06-20</th>\n",
       "      <td>2906.314697</td>\n",
       "    </tr>\n",
       "    <tr>\n",
       "      <th>2019-06-21</th>\n",
       "      <td>2917.067383</td>\n",
       "    </tr>\n",
       "    <tr>\n",
       "      <th>2019-06-24</th>\n",
       "      <td>2927.904785</td>\n",
       "    </tr>\n",
       "    <tr>\n",
       "      <th>2019-06-25</th>\n",
       "      <td>2937.727295</td>\n",
       "    </tr>\n",
       "    <tr>\n",
       "      <th>2019-06-26</th>\n",
       "      <td>2934.133301</td>\n",
       "    </tr>\n",
       "    <tr>\n",
       "      <th>2019-06-27</th>\n",
       "      <td>2913.028076</td>\n",
       "    </tr>\n",
       "    <tr>\n",
       "      <th>2019-06-28</th>\n",
       "      <td>2914.969238</td>\n",
       "    </tr>\n",
       "    <tr>\n",
       "      <th>2019-07-01</th>\n",
       "      <td>2904.091553</td>\n",
       "    </tr>\n",
       "  </tbody>\n",
       "</table>\n",
       "</div>"
      ],
      "text/plain": [
       "            ZeroMeanFilteredOpen Prediction\n",
       "Date                                       \n",
       "2019-05-17                      2839.837646\n",
       "2019-05-20                      2839.426758\n",
       "2019-05-21                      2839.015137\n",
       "2019-05-22                      2837.200195\n",
       "2019-05-23                      2832.546143\n",
       "2019-05-24                      2826.446533\n",
       "2019-05-28                      2819.870117\n",
       "2019-05-29                      2810.609863\n",
       "2019-05-30                      2798.191162\n",
       "2019-05-31                      2785.753418\n",
       "2019-06-03                      2775.921387\n",
       "2019-06-04                      2772.492676\n",
       "2019-06-05                      2777.834473\n",
       "2019-06-06                      2788.503418\n",
       "2019-06-07                      2801.859131\n",
       "2019-06-10                      2817.462891\n",
       "2019-06-11                      2834.104492\n",
       "2019-06-12                      2851.734375\n",
       "2019-06-13                      2869.896973\n",
       "2019-06-14                      2883.309326\n",
       "2019-06-17                      2889.198730\n",
       "2019-06-18                      2892.995361\n",
       "2019-06-19                      2898.365479\n",
       "2019-06-20                      2906.314697\n",
       "2019-06-21                      2917.067383\n",
       "2019-06-24                      2927.904785\n",
       "2019-06-25                      2937.727295\n",
       "2019-06-26                      2934.133301\n",
       "2019-06-27                      2913.028076\n",
       "2019-06-28                      2914.969238\n",
       "2019-07-01                      2904.091553"
      ]
     },
     "execution_count": 19,
     "metadata": {},
     "output_type": "execute_result"
    }
   ],
   "source": [
    "# Transform, loop, transform, and reshape \"ZeroMeanFilteredOpen\" test X data\n",
    "zero_mean_filtered_open_X_test, zero_mean_filtered_open_Y_test = [], []\n",
    "zero_mean_filtered_open_test_values = zeroMeanFilteredOpenScaler.fit_transform(np.array(df_test.ZeroMeanFilteredOpen).reshape(-1,1))\n",
    "for i in range(len(zero_mean_filtered_open_test_values)-2):\n",
    "    zero_mean_filtered_open_X_test.append(zero_mean_filtered_open_test_values[i:i+2].reshape(1,-1)[0])\n",
    "    zero_mean_filtered_open_Y_test.append(zero_mean_filtered_open_test_values[i+2][0])\n",
    "zero_mean_filtered_open_X_test = np.asarray(zero_mean_filtered_open_X_test)\n",
    "zero_mean_filtered_open_Y_test = np.asarray(zero_mean_filtered_open_Y_test)\n",
    "zero_mean_filtered_open_X_test = zero_mean_filtered_open_X_test[..., np.newaxis]\n",
    "\n",
    "# Make the predict method and inverse_transform call\n",
    "prediction_zero_mean_filtered_open_test = zeroMeanFilteredOpenScaler.inverse_transform(model_zero_mean_filtered_open.predict(zero_mean_filtered_open_X_test))\n",
    "prediction_zero_mean_filtered_open_test\n",
    "\n",
    "# Create a DataFrame for your \"ZeroMeanFilteredOpen\" prediction\n",
    "df_zero_mean_filtered_open_prediction = pd.DataFrame({\"Date\":df_test.index[2:]})\n",
    "df_zero_mean_filtered_open_prediction[\"ZeroMeanFilteredOpen Prediction\"] = prediction_zero_mean_filtered_open_test\n",
    "df_zero_mean_filtered_open_prediction[\"ZeroMeanFilteredOpen Prediction\"] = df_zero_mean_filtered_open_prediction[\"ZeroMeanFilteredOpen Prediction\"] + filteredOpenMean\n",
    "df_zero_mean_filtered_open_prediction = df_zero_mean_filtered_open_prediction.set_index(\"Date\")\n",
    "# Add the FilteredOpen mean from train DataFrame into all values (reverse the normalization)\n",
    "df_zero_mean_filtered_open_prediction"
   ]
  },
  {
   "cell_type": "markdown",
   "metadata": {
    "id": "xokh74PzfGt2"
   },
   "source": [
    "### Plot all three predictions with the original test \"Open\"\n",
    "Which predictions did the best? Let's find out by plotting all three sets of predictions on the same plot. \n"
   ]
  },
  {
   "cell_type": "code",
   "execution_count": 20,
   "metadata": {},
   "outputs": [
    {
     "data": {
      "text/html": [
       "<div>\n",
       "<style scoped>\n",
       "    .dataframe tbody tr th:only-of-type {\n",
       "        vertical-align: middle;\n",
       "    }\n",
       "\n",
       "    .dataframe tbody tr th {\n",
       "        vertical-align: top;\n",
       "    }\n",
       "\n",
       "    .dataframe thead th {\n",
       "        text-align: right;\n",
       "    }\n",
       "</style>\n",
       "<table border=\"1\" class=\"dataframe\">\n",
       "  <thead>\n",
       "    <tr style=\"text-align: right;\">\n",
       "      <th></th>\n",
       "      <th>Open Prediction</th>\n",
       "      <th>S&amp;P 500 Stock Price</th>\n",
       "      <th>FilteredOpen Prediction</th>\n",
       "      <th>ZeroMeanFilteredOpen Prediction</th>\n",
       "    </tr>\n",
       "    <tr>\n",
       "      <th>Date</th>\n",
       "      <th></th>\n",
       "      <th></th>\n",
       "      <th></th>\n",
       "      <th></th>\n",
       "    </tr>\n",
       "  </thead>\n",
       "  <tbody>\n",
       "    <tr>\n",
       "      <th>2019-05-17</th>\n",
       "      <td>2830.546631</td>\n",
       "      <td>2858.600098</td>\n",
       "      <td>2840.340332</td>\n",
       "      <td>2839.837646</td>\n",
       "    </tr>\n",
       "    <tr>\n",
       "      <th>2019-05-20</th>\n",
       "      <td>2855.605713</td>\n",
       "      <td>2841.939941</td>\n",
       "      <td>2839.943359</td>\n",
       "      <td>2839.426758</td>\n",
       "    </tr>\n",
       "    <tr>\n",
       "      <th>2019-05-21</th>\n",
       "      <td>2852.799805</td>\n",
       "      <td>2854.020020</td>\n",
       "      <td>2839.538330</td>\n",
       "      <td>2839.015137</td>\n",
       "    </tr>\n",
       "    <tr>\n",
       "      <th>2019-05-22</th>\n",
       "      <td>2844.695312</td>\n",
       "      <td>2856.060059</td>\n",
       "      <td>2837.755371</td>\n",
       "      <td>2837.200195</td>\n",
       "    </tr>\n",
       "    <tr>\n",
       "      <th>2019-05-23</th>\n",
       "      <td>2853.634766</td>\n",
       "      <td>2836.699951</td>\n",
       "      <td>2833.240234</td>\n",
       "      <td>2832.546143</td>\n",
       "    </tr>\n",
       "  </tbody>\n",
       "</table>\n",
       "</div>"
      ],
      "text/plain": [
       "            Open Prediction  S&P 500 Stock Price  FilteredOpen Prediction  \\\n",
       "Date                                                                        \n",
       "2019-05-17      2830.546631          2858.600098              2840.340332   \n",
       "2019-05-20      2855.605713          2841.939941              2839.943359   \n",
       "2019-05-21      2852.799805          2854.020020              2839.538330   \n",
       "2019-05-22      2844.695312          2856.060059              2837.755371   \n",
       "2019-05-23      2853.634766          2836.699951              2833.240234   \n",
       "\n",
       "            ZeroMeanFilteredOpen Prediction  \n",
       "Date                                         \n",
       "2019-05-17                      2839.837646  \n",
       "2019-05-20                      2839.426758  \n",
       "2019-05-21                      2839.015137  \n",
       "2019-05-22                      2837.200195  \n",
       "2019-05-23                      2832.546143  "
      ]
     },
     "execution_count": 20,
     "metadata": {},
     "output_type": "execute_result"
    }
   ],
   "source": [
    "df_all_predictions = pd.concat([df_open_prediction, df_filtered_open_prediction, df_zero_mean_filtered_open_prediction], axis = 1)\n",
    "df_all_predictions.head()"
   ]
  },
  {
   "cell_type": "code",
   "execution_count": 21,
   "metadata": {},
   "outputs": [
    {
     "data": {
      "text/plain": [
       "<matplotlib.legend.Legend at 0x23e8096a860>"
      ]
     },
     "execution_count": 21,
     "metadata": {},
     "output_type": "execute_result"
    },
    {
     "data": {
      "image/png": "[encoded data removed]",
      "text/plain": [
       "<Figure size 1152x432 with 1 Axes>"
      ]
     },
     "metadata": {
      "needs_background": "light"
     },
     "output_type": "display_data"
    }
   ],
   "source": [
    "plt.figure(figsize=(16, 6))\n",
    "plt.plot(df_all_predictions)\n",
    "plt.legend(df_all_predictions)"
   ]
  },
  {
   "cell_type": "markdown",
   "metadata": {
    "id": "kZZfmhNVg5Xq"
   },
   "source": [
    "### Calculate the RMSE of the three predictions\n",
    "Visually, we know which predictions performed best.\n",
    "\n",
    "We calculate the RMSE of the predictions."
   ]
  },
  {
   "cell_type": "code",
   "execution_count": 22,
   "metadata": {
    "colab": {
     "base_uri": "https://localhost:8080/"
    },
    "id": "qTaMZTVxLVL4",
    "outputId": "ef8b59b0-d45b-4047-e060-37b0b977162b"
   },
   "outputs": [
    {
     "name": "stdout",
     "output_type": "stream",
     "text": [
      "27.68622886872039\n",
      "29.999993314921753\n",
      "30.395239217785925\n"
     ]
    }
   ],
   "source": [
    "# Print the RMSE of test 'Open' and 'Open' predictions\n",
    "print(mean_squared_error(df_all_predictions[\"Open Prediction\"], df_all_predictions[\"S&P 500 Stock Price\"]) ** 0.5)\n",
    "\n",
    "# Print the RMSE of test 'Open' and 'FilteredOpen' predictions\n",
    "print(mean_squared_error(df_all_predictions[\"FilteredOpen Prediction\"], df_all_predictions[\"S&P 500 Stock Price\"]) ** 0.5)\n",
    "\n",
    "# Print the RMSE of test 'Open' and 'ZeroMeanFilteredOpen' predictions\n",
    "print(mean_squared_error(df_all_predictions[\"ZeroMeanFilteredOpen Prediction\"], df_all_predictions[\"S&P 500 Stock Price\"]) ** 0.5)"
   ]
  },
  {
   "cell_type": "markdown",
   "metadata": {
    "id": "AClfLKKBhVtI"
   },
   "source": [
    "# The end\n",
    "\n",
    "To recap, we have:\n",
    "1. Read research on stock pricing and retrieved the data\n",
    "2. Investigated the ARIMA terms and performed ARIMA modelling\n",
    "3. Used signal processing techniques to denoise stock data\n",
    "4. Trained an LSTM model to predict stock pricing data\n",
    "\n",
    "More things to try:\n",
    "- More datasets, e.g., HSI and DJI\n",
    "- More modelling, e.g., more complex LSTM infrastructures"
   ]
  }
 ],
 "metadata": {
  "colab": {
   "name": "Project Finance x LSTM (Part IV).ipynb",
   "provenance": [],
   "toc_visible": true
  },
  "kernelspec": {
   "display_name": "Python 3 (ipykernel)",
   "language": "python",
   "name": "python3"
  },
  "language_info": {
   "codemirror_mode": {
    "name": "ipython",
    "version": 3
   },
   "file_extension": ".py",
   "mimetype": "text/x-python",
   "name": "python",
   "nbconvert_exporter": "python",
   "pygments_lexer": "ipython3",
   "version": "3.10.5"
  }
 },
 "nbformat": 4,
 "nbformat_minor": 4
}
